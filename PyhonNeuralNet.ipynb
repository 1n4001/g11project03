{
 "cells": [
  {
   "cell_type": "code",
   "execution_count": 25,
   "metadata": {
    "collapsed": true
   },
   "outputs": [],
   "source": [
    "import numpy as np\n",
    "import pandas as pd\n",
    "\n",
    "def getData(filePath):\n",
    "    data = np.genfromtxt(filePath, delimiter=',')\n",
    "    x, y = np.array(data[:,0:-1], dtype=float), np.array(data[:,-1],dtype=int)\n",
    "    y = y.reshape(1,len(y)).T\n",
    "    return x,y\n",
    "\n",
    "def sigmoid(x):\n",
    "    return 1/(1+np.exp(-x))\n",
    "\n",
    "def trainNeuralNet(synapse0, synapse1, epochs):\n",
    "    for j in range(epochs):\n",
    "        l1 = sigmoid(np.dot(X,synapse0))\n",
    "        l2 = sigmoid(np.dot(l1,synapse1))\n",
    "        l2_delta = (y - l2)*(l2*(1-l2))\n",
    "        l1_delta = l2_delta.dot(synapse1.T) * (l1 * (1-l1))\n",
    "        synapse1 += l1.T.dot(l2_delta) #adjust our synapses up or down as necessary\n",
    "        synapse0 += X.T.dot(l1_delta)\n"
   ]
  },
  {
   "cell_type": "markdown",
   "metadata": {},
   "source": [
    "Test our neural network trainer against a simple dataset: X will contain binary tuples and Y will be the XOR result of rows in X."
   ]
  },
  {
   "cell_type": "code",
   "execution_count": 27,
   "metadata": {},
   "outputs": [
    {
     "name": "stdout",
     "output_type": "stream",
     "text": [
      "[[ 0.  0.]\n",
      " [ 0.  1.]\n",
      " [ 1.  0.]\n",
      " [ 1.  1.]]\n",
      "[[0]\n",
      " [1]\n",
      " [1]\n",
      " [0]]\n",
      "Output of predicted y (2nd and 3rd rows should be 1):  [[ 0.09335549]\n",
      " [ 0.95700552]\n",
      " [ 0.91362687]\n",
      " [ 0.0701501 ]]\n"
     ]
    }
   ],
   "source": [
    "# trivial dataset\n",
    "X, y = getData('data/prepared/trivial.csv')\n",
    "\n",
    "# X = np.array([ [0,0],[0,1],[1,0],[1,1] ])\n",
    "# y = np.array([[0,1,1,0]]).T # XOR(X)\n",
    "\n",
    "np.random.seed(seed=42)\n",
    "syn0 = 2*np.random.random((X.shape[1],X.shape[0])) - 1\n",
    "syn1 = 2*np.random.random((y.shape[0],y.shape[1])) - 1\n",
    "epochs = 1000\n",
    "\n",
    "trainNeuralNet(syn0, syn1, epochs)\n",
    "\n",
    "layer1_transform = sigmoid(np.dot(X,syn0))\n",
    "result = sigmoid(np.dot(layer1_transform,syn1))\n",
    "\n",
    "print(\"Output of predicted y (2nd and 3rd rows should be 1): \",result)\n"
   ]
  },
  {
   "cell_type": "markdown",
   "metadata": {},
   "source": [
    "Looks good.  Now lets load our accute inflamation dataset."
   ]
  },
  {
   "cell_type": "code",
   "execution_count": 84,
   "metadata": {},
   "outputs": [
    {
     "name": "stdout",
     "output_type": "stream",
     "text": [
      "incorrect guesses:  10.0\n",
      "accuracy:  0.916666666667\n"
     ]
    }
   ],
   "source": [
    "X,y = getData('data/prepared/data.csv')\n",
    "\n",
    "np.random.seed(seed=42)\n",
    "syn0 = 2*np.random.random((X.shape[1],X.shape[0])) - 1\n",
    "syn1 = 2*np.random.random((y.shape[0],y.shape[1])) - 1\n",
    "epochs = 1000\n",
    "\n",
    "trainNeuralNet(syn0, syn1, epochs)\n",
    "\n",
    "layer1_transform = sigmoid(np.dot(X,syn0))\n",
    "result = sigmoid(np.dot(layer1_transform,syn1))\n",
    "\n",
    "# print(\"y: \",y)\n",
    "result = np.double(result>0.99999999)\n",
    "print(\"incorrect guesses: \",np.sum(np.abs(y-result)))\n",
    "print(\"accuracy: \",1-np.sum(y-result)/X.shape[0])"
   ]
  },
  {
   "cell_type": "code",
   "execution_count": null,
   "metadata": {
    "collapsed": true
   },
   "outputs": [],
   "source": []
  }
 ],
 "metadata": {
  "kernelspec": {
   "display_name": "Python 3",
   "language": "python",
   "name": "python3"
  },
  "language_info": {
   "codemirror_mode": {
    "name": "ipython",
    "version": 3
   },
   "file_extension": ".py",
   "mimetype": "text/x-python",
   "name": "python",
   "nbconvert_exporter": "python",
   "pygments_lexer": "ipython3",
   "version": "3.5.3"
  }
 },
 "nbformat": 4,
 "nbformat_minor": 2
}
