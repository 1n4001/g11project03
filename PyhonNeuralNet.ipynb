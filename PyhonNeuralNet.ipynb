{
 "cells": [
  {
   "cell_type": "code",
   "execution_count": 171,
   "metadata": {
    "collapsed": true
   },
   "outputs": [],
   "source": [
    "import numpy as np\n",
    "import pandas as pd\n",
    "from sklearn.model_selection import KFold\n",
    "\n",
    "def getData(filePath):\n",
    "    data = np.genfromtxt(filePath, delimiter=',')\n",
    "    x, y = np.array(data[:,0:-1], dtype=float), np.array(data[:,-1],dtype=int)\n",
    "    y = y.reshape(1,len(y)).T\n",
    "    return x,y\n",
    "\n",
    "def splitInputOutput(data):\n",
    "    x, y = np.array(data[:,0:-1], dtype=float), np.array(data[:,-1],dtype=int)\n",
    "    y = y.reshape(1,len(y)).T\n",
    "    return x,y\n",
    "\n",
    "def sigmoid(x):\n",
    "    return 1/(1+np.exp(-x))\n",
    "\n",
    "def make_sigmoid_prime(x):\n",
    "    return x*(1-x)\n",
    "\n",
    "def trainNeuralNet(synapse0, synapse1, epochs):\n",
    "    for j in range(epochs):\n",
    "        l1 = sigmoid(np.dot(X,synapse0))\n",
    "        l2 = sigmoid(np.dot(l1,synapse1))\n",
    "        l2_delta = (y - l2)*make_sigmoid_prime(l2)\n",
    "        l1_delta = l2_delta.dot(synapse1.T) * make_sigmoid_prime(l1)\n",
    "        synapse1 += l1.T.dot(l2_delta) #adjust our synapses up or down as necessary\n",
    "        synapse0 += X.T.dot(l1_delta)\n"
   ]
  },
  {
   "cell_type": "markdown",
   "metadata": {},
   "source": [
    "Test our neural network trainer against a simple dataset: X will contain binary tuples and Y will be the XOR result of rows in X."
   ]
  },
  {
   "cell_type": "code",
   "execution_count": 172,
   "metadata": {},
   "outputs": [
    {
     "name": "stdout",
     "output_type": "stream",
     "text": [
      "MSE:  0.0114725639859\n",
      "Output of predicted y (2nd and 3rd rows should be 1):  [[ 0.09335549]\n",
      " [ 0.95700552]\n",
      " [ 0.91362687]\n",
      " [ 0.0701501 ]]\n"
     ]
    }
   ],
   "source": [
    "# trivial dataset\n",
    "X, y = getData('data/prepared/trivial.csv')\n",
    "\n",
    "# X = np.array([ [0,0],[0,1],[1,0],[1,1] ])\n",
    "# y = np.array([[0,1,1,0]]).T # XOR(X)\n",
    "\n",
    "np.random.seed(seed=42)\n",
    "syn0 = 2*np.random.random((X.shape[1],X.shape[0])) - 1\n",
    "syn1 = 2*np.random.random((y.shape[0],y.shape[1])) - 1\n",
    "epochs = 1000\n",
    "\n",
    "trainNeuralNet(syn0, syn1, epochs)\n",
    "\n",
    "layer1_transform = sigmoid(np.dot(X,syn0))\n",
    "result = sigmoid(np.dot(layer1_transform,syn1))\n",
    "\n",
    "print(\"MSE: \",0.5*np.sum((y - result)**2))\n",
    "print(\"Output of predicted y (2nd and 3rd rows should be 1): \",result)\n"
   ]
  },
  {
   "cell_type": "markdown",
   "metadata": {},
   "source": [
    "Looks good.  Now lets load our accute inflamation dataset."
   ]
  },
  {
   "cell_type": "code",
   "execution_count": 173,
   "metadata": {},
   "outputs": [
    {
     "name": "stdout",
     "output_type": "stream",
     "text": [
      "MSE:  5.39454610192e-07\n",
      "MSE:  5.16238558606e-06\n",
      "MSE:  3.31410895478e-06\n",
      "MSE:  3.60183408064e-07\n",
      "MSE:  7.61713710947e-06\n"
     ]
    }
   ],
   "source": [
    "# X,y = getData('data/prepared/dataWithTemp.csv')\n",
    "\n",
    "df = pd.read_csv('data/prepared/dataWithTemp.csv',sep=',',names=[\"Temp\", \"Nausea\", \"Lumbar\", \"Pushing\",\"Micturition\",\"Burning\",\"BladderInflamation\"]);\n",
    "df[\"Temp\"] = df.transform(lambda x: x - 37)\n",
    "\n",
    "X,y = splitInputOutput(df.as_matrix())\n",
    "\n",
    "kf = KFold(n_splits=5,random_state=None, shuffle=True)\n",
    "\n",
    "\n",
    "for train_index, test_index in kf.split(X):\n",
    "    X_train, X_test = X[train_index], X[test_index]\n",
    "    y_train, y_test = y[train_index], y[test_index]\n",
    "\n",
    "    np.random.seed(seed=42)\n",
    "    syn0 = 2*np.random.random((X_train.shape[1],X_train.shape[0])) - 1\n",
    "    syn1 = 2*np.random.random((y_train.shape[0],y_train.shape[1])) - 1\n",
    "    epochs = 10000\n",
    "\n",
    "    trainNeuralNet(syn0, syn1, epochs)\n",
    "\n",
    "    layer1_transform = sigmoid(np.dot(X_test,syn0))\n",
    "    result = sigmoid(np.dot(layer1_transform,syn1))\n",
    "    print(\"MSE: \",0.5*np.sum((y_test - result)**2))\n"
   ]
  },
  {
   "cell_type": "code",
   "execution_count": null,
   "metadata": {
    "collapsed": true
   },
   "outputs": [],
   "source": []
  }
 ],
 "metadata": {
  "kernelspec": {
   "display_name": "Python 3",
   "language": "python",
   "name": "python3"
  },
  "language_info": {
   "codemirror_mode": {
    "name": "ipython",
    "version": 3
   },
   "file_extension": ".py",
   "mimetype": "text/x-python",
   "name": "python",
   "nbconvert_exporter": "python",
   "pygments_lexer": "ipython3",
   "version": "3.5.3"
  }
 },
 "nbformat": 4,
 "nbformat_minor": 2
}
