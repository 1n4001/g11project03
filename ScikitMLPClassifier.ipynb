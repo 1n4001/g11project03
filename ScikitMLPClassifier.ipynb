{
 "cells": [
  {
   "cell_type": "code",
   "execution_count": 8,
   "metadata": {},
   "outputs": [
    {
     "name": "stdout",
     "output_type": "stream",
     "text": [
      "\n",
      "MSE against Test data:  0.0\n",
      "Accuracy:  1.0\n"
     ]
    }
   ],
   "source": [
    "from sklearn.neural_network import MLPClassifier\n",
    "import numpy as np\n",
    "import pandas as pd\n",
    "\n",
    "def splitInputOutput(data):\n",
    "    x, y = np.array(data[:,0:-1], dtype=float), np.array(data[:,-1],dtype=int)\n",
    "    y = np.squeeze(np.asarray(y)) #y.reshape(1,len(y)).T\n",
    "    return x,y\n",
    "\n",
    "df = pd.read_csv('data/prepared/dataWithTempRandomized.train.csv',sep=',',names=[\"Temp\", \"Nausea\", \"Lumbar\", \"Pushing\",\"Micturition\",\"Burning\",\"BladderInflamation\"]);\n",
    "df[\"Temp\"] = df.transform(lambda x: x - 37)\n",
    "\n",
    "X,y = splitInputOutput(df.as_matrix())\n",
    "\n",
    "clf = MLPClassifier(solver='lbfgs', alpha=1e-5,\n",
    "                     hidden_layer_sizes=(X.shape[1], X.shape[0]), random_state=1)\n",
    "\n",
    "clf.fit(X, y)\n",
    "\n",
    "df = pd.read_csv('data/prepared/dataWithTempRandomized.test.csv',sep=',',names=[\"Temp\", \"Nausea\", \"Lumbar\", \"Pushing\",\"Micturition\",\"Burning\",\"BladderInflamation\"]);\n",
    "df[\"Temp\"] = df.transform(lambda x: x - 37)\n",
    "\n",
    "X,y = splitInputOutput(df.as_matrix())\n",
    "\n",
    "result = clf.predict(X)\n",
    "mse = 0.5*np.sum((y - result)**2)\n",
    "result = np.double(result > 0.5)\n",
    "print()\n",
    "print(\"MSE against Test data: \",mse)\n",
    "print(\"Accuracy: \",1-np.sum(y-result)/y.shape[0])\n"
   ]
  }
 ],
 "metadata": {
  "kernelspec": {
   "display_name": "Python 3",
   "language": "python",
   "name": "python3"
  },
  "language_info": {
   "codemirror_mode": {
    "name": "ipython",
    "version": 3
   },
   "file_extension": ".py",
   "mimetype": "text/x-python",
   "name": "python",
   "nbconvert_exporter": "python",
   "pygments_lexer": "ipython3",
   "version": "3.5.3"
  }
 },
 "nbformat": 4,
 "nbformat_minor": 2
}
